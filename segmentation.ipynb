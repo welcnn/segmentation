{
 "cells": [
  {
   "cell_type": "code",
   "execution_count": null,
   "id": "27deff55",
   "metadata": {},
   "outputs": [],
   "source": [
    "import cv2\n",
    "import numpy as np\n",
    "\n",
    "# Load the depth map\n",
    "image_path = r'C:\\Users\\CAN\\MiDaS\\output\\depth_map.png'\n",
    "depth_map = cv2.imread(image_path, cv2.IMREAD_GRAYSCALE)\n",
    "\n",
    "# Apply thresholding to separate objects from the background\n",
    "threshold_value = 100\n",
    "_, thresholded_depth = cv2.threshold(depth_map, threshold_value, 255, cv2.THRESH_BINARY)\n",
    "\n",
    "# Perform connected component analysis to identify individual objects\n",
    "_, labels, stats, centroids = cv2.connectedComponentsWithStats(thresholded_depth)\n",
    "\n",
    "# Iterate over each connected component (excluding background)\n",
    "for label in range(1, stats.shape[0]):\n",
    "    # Extract the bounding box coordinates\n",
    "    x, y, w, h, area = stats[label]\n",
    "    \n",
    "    # Draw the bounding box on the original depth map\n",
    "    cv2.rectangle(depth_map, (x, y), (x + w, y + h), (255, 255, 255), 2)\n",
    "    \n",
    "    # Add text with the centroid coordinates\n",
    "    centroid_x, centroid_y = int(centroids[label][0]), int(centroids[label][1])\n",
    "    cv2.putText(depth_map, f'({centroid_x}, {centroid_y})', (centroid_x, centroid_y), cv2.FONT_HERSHEY_SIMPLEX, 0.5, (255, 255, 255), 1)\n",
    "\n",
    "resized_depth_map = cv2.resize(depth_map,(600,800))\n",
    "# Display the segmented depth map with bounding boxes and centroid coordinates\n",
    "cv2.imshow('Segmented Depth Map', resized_depth_map)\n",
    "cv2.waitKey(0)\n",
    "cv2.destroyAllWindows()\n"
   ]
  },
  {
   "cell_type": "code",
   "execution_count": null,
   "id": "8b0b4532",
   "metadata": {},
   "outputs": [],
   "source": [
    " "
   ]
  }
 ],
 "metadata": {
  "kernelspec": {
   "display_name": "Python 3 (ipykernel)",
   "language": "python",
   "name": "python3"
  },
  "language_info": {
   "codemirror_mode": {
    "name": "ipython",
    "version": 3
   },
   "file_extension": ".py",
   "mimetype": "text/x-python",
   "name": "python",
   "nbconvert_exporter": "python",
   "pygments_lexer": "ipython3",
   "version": "3.11.5"
  }
 },
 "nbformat": 4,
 "nbformat_minor": 5
}
